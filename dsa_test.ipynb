{
 "cells": [
  {
   "cell_type": "markdown",
   "metadata": {},
   "source": [
    "testing things out "
   ]
  },
  {
   "cell_type": "code",
   "execution_count": null,
   "metadata": {},
   "outputs": [],
   "source": []
  },
  {
   "cell_type": "code",
   "execution_count": null,
   "metadata": {},
   "outputs": [
    {
     "name": "stdout",
     "output_type": "stream",
     "text": [
      "15\n"
     ]
    }
   ],
   "source": [
    "def simple_func(x1, x2):\n",
    "    return x1 + x2\n",
    "\n",
    "x = 10\n",
    "y = 5\n",
    "print(simple_func(x,y))"
   ]
  },
  {
   "cell_type": "code",
   "execution_count": null,
   "metadata": {},
   "outputs": [
    {
     "name": "stdout",
     "output_type": "stream",
     "text": [
      "15\n"
     ]
    }
   ],
   "source": [
    "def simple_func(x1, x2):\n",
    "    return x1 + x2\n",
    "\n",
    "x = 10\n",
    "y = 5\n",
    "print(simple_func(x,y))"
   ]
  },
  {
   "cell_type": "code",
   "execution_count": null,
   "metadata": {},
   "outputs": [
    {
     "name": "stdout",
     "output_type": "stream",
     "text": [
      "15\n"
     ]
    }
   ],
   "source": [
    "def simple_func(x1, x2):\n",
    "    return x1 + x2\n",
    "\n",
    "x = 10\n",
    "y = 5\n",
    "print(simple_func(x,y))"
   ]
  },
  {
   "cell_type": "code",
   "execution_count": 23,
   "metadata": {},
   "outputs": [
    {
     "name": "stdout",
     "output_type": "stream",
     "text": [
      "splitting cells\n"
     ]
    }
   ],
   "source": [
    "print('splitting cells')"
   ]
  },
  {
   "cell_type": "markdown",
   "metadata": {},
   "source": [
    "an algorithm is just simply a list of statements, a list of steps that can be converted into code and executed by a computer on different sets of inputs.\n",
    "1. Linear Search Algorithm: it involves searching through a list in a linear fashion, element by element."
   ]
  },
  {
   "cell_type": "markdown",
   "metadata": {},
   "source": [
    "Complexity of an Algorithm: so the field of study concerned with finiding the amount of time or the amount of space or the amount of other resources required to complete the execution of a program is called the analysis of algorithms and the process of figuring out the best algorithm to solve a problem is called algorithm design."
   ]
  },
  {
   "cell_type": "markdown",
   "metadata": {},
   "source": [
    "1.Complexity. the complexity of an algorithm is simply some measure of the amount of time or space required by an algorithm to process an input of a given size.\n",
    "the 'c' captures information about the number of specific operations that we perform in each iteration and informatoin about the actual hardware that you are running on. so CN is the time complexity."
   ]
  },
  {
   "cell_type": "markdown",
   "metadata": {},
   "source": [
    "2.Big O Notation."
   ]
  },
  {
   "cell_type": "markdown",
   "metadata": {},
   "source": [
    "✅ Data Structures (DS):\n",
    "👉 These are the best ways to STORE and ORGANIZE data,\n",
    "👉 So that you can access, update, delete, or search the data efficiently later.\n",
    "\n",
    "Think of DS as containers or tools to hold your data in the smartest way depending on what job you wanna do!"
   ]
  },
  {
   "cell_type": "markdown",
   "metadata": {},
   "source": [
    "✅ Algorithms (A):\n",
    "👉 These are the best ways to SOLVE problems efficiently by using step-by-step instructions.\n",
    "👉 Algorithms often use data structures to get things done faster and better."
   ]
  },
  {
   "cell_type": "markdown",
   "metadata": {},
   "source": [
    "💡 DS helps you store/manage data efficiently.\n",
    "\n",
    "💡 A helps you process/solve problems efficiently."
   ]
  },
  {
   "cell_type": "markdown",
   "metadata": {},
   "source": [
    "Algorithm: an algorithm is a set of steps or instructions for completing a task.  \n",
    "a set of steps a program takes to finish a task."
   ]
  },
  {
   "cell_type": "markdown",
   "metadata": {},
   "source": [
    "1. linear_serach\n"
   ]
  },
  {
   "cell_type": "code",
   "execution_count": 2,
   "metadata": {},
   "outputs": [
    {
     "name": "stdout",
     "output_type": "stream",
     "text": [
      "target not found in list\n",
      "target found at index: 5\n"
     ]
    }
   ],
   "source": [
    "def linear_search(list, target):\n",
    "    #returns the index position of the targer if found , else returns none.\n",
    "\n",
    "    for i in range(0, len(list)):\n",
    "        if list[i] == target:\n",
    "            return i\n",
    "    return None\n",
    "\n",
    "def verify(index):\n",
    "    if index is not None:\n",
    "        print('target found at index:', index)\n",
    "    \n",
    "    else:\n",
    "        print('target not found in list')\n",
    "\n",
    "\n",
    "numbers = [1,2,3,4,5,6,7,8,9,10]\n",
    "\n",
    "result = linear_search(numbers, 12)\n",
    "verify(result)\n",
    "\n",
    "result2 = linear_search(numbers, 6)\n",
    "verify(result2)"
   ]
  },
  {
   "cell_type": "markdown",
   "metadata": {},
   "source": [
    "2. binary_search\n"
   ]
  },
  {
   "cell_type": "code",
   "execution_count": 3,
   "metadata": {},
   "outputs": [
    {
     "name": "stdout",
     "output_type": "stream",
     "text": [
      "target not found in list\n",
      "target found at index: 5\n"
     ]
    }
   ],
   "source": [
    "def binary_search(list, target):\n",
    "    first = 0\n",
    "    last = len(list) - 1\n",
    "\n",
    "    while first <= last:\n",
    "        midpoint = (first + last)// 2\n",
    "\n",
    "        if list[midpoint] == target:\n",
    "            return midpoint\n",
    "        elif list[midpoint] < target:\n",
    "            first = midpoint + 1\n",
    "        else: \n",
    "            last = midpoint - 1\n",
    "        \n",
    "    return None\n",
    "\n",
    "\n",
    "def verify(index):\n",
    "    if index is not None:\n",
    "        print('target found at index:', index)\n",
    "    \n",
    "    else:\n",
    "        print('target not found in list')\n",
    "\n",
    "\n",
    "numbers = [1,2,3,4,5,6,7,8,9,10]\n",
    "\n",
    "result = binary_search(numbers, 12)\n",
    "verify(result)\n",
    "\n",
    "result2 = binary_search(numbers, 6)\n",
    "verify(result2)"
   ]
  },
  {
   "cell_type": "markdown",
   "metadata": {},
   "source": [
    "alternative way."
   ]
  },
  {
   "cell_type": "code",
   "execution_count": 1,
   "metadata": {},
   "outputs": [
    {
     "name": "stdout",
     "output_type": "stream",
     "text": [
      "target found:  True\n"
     ]
    }
   ],
   "source": [
    "def recursive_binary_search(list, target):\n",
    "\n",
    "    if len(list) == 0:\n",
    "        return False\n",
    "    else:\n",
    "        midpoint = len(list)//2\n",
    "\n",
    "        if list[midpoint] == target:\n",
    "            return True\n",
    "        else:\n",
    "            if list[midpoint] < target:\n",
    "                return recursive_binary_search(list[midpoint + 1 : ], target)\n",
    "            else:\n",
    "                return recursive_binary_search(list[:midpoint], target)\n",
    "            \n",
    "\n",
    "def verify(result):\n",
    "    print('target found: ', result)\n",
    "\n",
    "\n",
    "numbers = [1,2,3,4,5,6,7,8]\n",
    "result = recursive_binary_search(numbers, 6)\n",
    "verify(result)\n",
    "        \n"
   ]
  },
  {
   "cell_type": "markdown",
   "metadata": {},
   "source": [
    "linked_list"
   ]
  },
  {
   "cell_type": "code",
   "execution_count": 2,
   "metadata": {},
   "outputs": [],
   "source": [
    "class Node:\n",
    "    '''\n",
    "    an object for storing a single node of a liclanked list.\n",
    "    models two attributes - data and the link to the next node in the list.\n",
    "    '''\n",
    "\n",
    "    data = None\n",
    "    next_node = None\n",
    "\n",
    "    def __init__(self, data):\n",
    "        self.data = data\n",
    "\n",
    "    def __repr__(self):\n",
    "        return '<node data: %s>' % self.data\n",
    "\n",
    "\n",
    "\n",
    "class LinkedList:\n",
    "\n",
    "    # singly linked list.\n",
    "\n",
    "    def __init__(self):\n",
    "        self.head = None\n",
    "\n",
    "    def is_empty(self):\n",
    "        return self.head == None\n",
    "    \n",
    "    def size(self):\n",
    "\n",
    "        '''\n",
    "        return the number of nodes in the list\n",
    "        takes O(n) time.\n",
    "        '''\n",
    "\n",
    "        current = self.head\n",
    "        count = 0\n",
    "\n",
    "        while current != None:\n",
    "            count += 1\n",
    "            current = current.next_node\n",
    "\n",
    "        return count\n",
    "    \n",
    "\n",
    "    def add(self, data):\n",
    "        \n",
    "        '''\n",
    "        adds new node containing data at the head of the list\n",
    "        takes O(1) time.\n",
    "        '''\n",
    "\n",
    "        new_node = Node(data)\n",
    "        new_node.next_node = self.head\n",
    "        self.head = new_node\n",
    "\n",
    "\n",
    "    def insert(self, data, index):\n",
    "\n",
    "# inserts a new node containing data at index position.\n",
    "# insertion takes constant time O(1). but finding the node at the insertion point takes O(n) time.\n",
    "# takes overall O(n) time.\n",
    "\n",
    "        if index == 0:\n",
    "            self.add(data)\n",
    "\n",
    "        if index > 0:\n",
    "            new = Node(data)\n",
    "\n",
    "        position = index\n",
    "        current = self.head\n",
    "\n",
    "        while position >1:\n",
    "            current = Node.next_node\n",
    "            position -= 1\n",
    "\n",
    "        prev_node = current\n",
    "        next_node = current.next_node\n",
    "\n",
    "        prev_node.next_node = new\n",
    "        new.next_node = next_node\n",
    "\n",
    "\n",
    "    def search(self, key):\n",
    "\n",
    "        # search for the first node containing data that matches the key. returns the node or none if not found .\n",
    "        # takes O(n) time.\n",
    "\n",
    "        current = self.head\n",
    "\n",
    "        while current:\n",
    "            if current.data == key:\n",
    "                return current\n",
    "            else:\n",
    "                current = current.next_node\n",
    "        return None\n",
    "\n",
    "\n",
    "    def remove(self, key):\n",
    "\n",
    "# removes node containing data that matches the key.\n",
    "# returns the node or none if key doesnt exist.\n",
    "# takes O(n) time.\n",
    "\n",
    "        current = self.head\n",
    "        previous = None\n",
    "        found = False\n",
    "\n",
    "        while current and not found:\n",
    "            if current.data == key and current is self.head:\n",
    "                found = True\n",
    "                self.head = current.next_node\n",
    "            elif current.data == key:\n",
    "                found = True\n",
    "                previous.next_node = current.next_node\n",
    "            else:\n",
    "                previous = current\n",
    "                current = current.next_node\n",
    "\n",
    "        return current\n",
    "    \n",
    "    def node_at_index(self, index):\n",
    "        if index == 0:\n",
    "            return self.head\n",
    "        else:\n",
    "            current = self.head\n",
    "            position = 0\n",
    "\n",
    "            while position < index:\n",
    "                current = current.next_node\n",
    "                position += 1\n",
    "\n",
    "            return current\n",
    "\n",
    "\n",
    "    def __repr__(self):\n",
    "        \"\"\"\n",
    "        Return a string representation of the list.\n",
    "        Takes O(n) time.\n",
    "        \"\"\"\n",
    "        nodes = []\n",
    "        current = self.head\n",
    "        while current:\n",
    "            if current is self.head:\n",
    "                nodes.append(\"[Head: %s]\" % current.data)\n",
    "            elif current.next_node is None:\n",
    "                nodes.append(\"[Tail: %s]\" % current.data)\n",
    "            else:\n",
    "                nodes.append(\"[%s]\" % current.data)\n",
    "            current = current.next_node\n",
    "        return  '-> '.join(nodes)\n",
    "\n",
    "#l = LinkedList()\n",
    "#l.add(1)\n",
    "#l.add(2)\n",
    "#l.add(3)\n",
    "#print(l)\n",
    "\n",
    "\n",
    "# n1 = Node(10)\n",
    "# n2 = Node(20)\n",
    "# n1.next_node = n2\n",
    "# n1.next_node\n",
    "\n",
    "#l = LinkedList()\n",
    "#n1 = Node(10)\n",
    "#l.head = n1\n",
    "#l.size()\n"
   ]
  },
  {
   "cell_type": "markdown",
   "metadata": {},
   "source": [
    "merge_sort\n"
   ]
  },
  {
   "cell_type": "code",
   "execution_count": 4,
   "metadata": {},
   "outputs": [
    {
     "name": "stdout",
     "output_type": "stream",
     "text": [
      "False\n",
      "True\n"
     ]
    }
   ],
   "source": [
    "def merge_sort(arr):\n",
    "    \"\"\"\n",
    "    sorts a list in ascending order.\n",
    "    returns a new sorted list.\n",
    "\n",
    "    divide: find a midpoint of the list and divide into sublists.\n",
    "    conquer: recursively sort the sublists created in previous step.\n",
    "    combine: merge the sorted sublists created in previous step.\n",
    "\n",
    "    takes O(kn log n) time\n",
    "    \"\"\"\n",
    "    if len(arr) <= 1:\n",
    "        return arr\n",
    "    \n",
    "    left_half, right_half = split(arr)\n",
    "    left = merge_sort(left_half)\n",
    "    right = merge_sort(right_half)\n",
    "\n",
    "    return merge(left, right)\n",
    "\n",
    "\n",
    "def split(arr):\n",
    "\n",
    "    \"\"\"\n",
    "    divide the unsorted list at midpoint into sublists.\n",
    "    returns two sublists - left and right. \n",
    "\n",
    "    takes overall O(k log n) time.\n",
    "    \"\"\"\n",
    "\n",
    "    mid = len(arr)//2\n",
    "    left = arr[:mid]\n",
    "    right = arr[mid:]\n",
    "\n",
    "    return left, right\n",
    "\n",
    "\n",
    "def merge(left, right):\n",
    "    \"\"\"\n",
    "    merges two list(arrays), sorting them in the process \n",
    "    returns a new merged list.\n",
    "\n",
    "    runs in overall O(n) time.\n",
    "    \"\"\"\n",
    "\n",
    "    l = []\n",
    "    i = 0\n",
    "    j = 0\n",
    "\n",
    "    while i < len(left) and j < len(right):\n",
    "        if left[i] < right[j]:\n",
    "            l.append(left[i])\n",
    "            i+=1\n",
    "\n",
    "        else:\n",
    "            l.append(right[j])\n",
    "            j+=1\n",
    "\n",
    "    while i < len(left):\n",
    "        l.append(left[i])\n",
    "        i += 1\n",
    "\n",
    "    while j < len(right):\n",
    "        l.append(right[j])\n",
    "        j += 1\n",
    "\n",
    "    return l\n",
    "\n",
    "def verify_sorted(arr):\n",
    "    n = len(arr)\n",
    "\n",
    "    if n == 0 or n == 1:\n",
    "        return True\n",
    "    \n",
    "    return arr[0] < arr[1] and verify_sorted(arr[1:])\n",
    "\n",
    "\n",
    "alist = [54, 62, 93, 17, 77, 31, 44, 55, 20]\n",
    "z = merge_sort(alist)\n",
    "print(verify_sorted(alist))\n",
    "print(verify_sorted(z))"
   ]
  },
  {
   "cell_type": "markdown",
   "metadata": {},
   "source": [
    "linked_list_merge_sort"
   ]
  },
  {
   "cell_type": "code",
   "execution_count": null,
   "metadata": {},
   "outputs": [
    {
     "ename": "NameError",
     "evalue": "name 'LINKEDLISTS' is not defined",
     "output_type": "error",
     "traceback": [
      "\u001b[1;31m---------------------------------------------------------------------------\u001b[0m",
      "\u001b[1;31mNameError\u001b[0m                                 Traceback (most recent call last)",
      "Cell \u001b[1;32mIn[3], line 123\u001b[0m\n\u001b[0;32m    118\u001b[0m     mergedd\u001b[38;5;241m.\u001b[39mhead \u001b[38;5;241m=\u001b[39m head\n\u001b[0;32m    120\u001b[0m     \u001b[38;5;28;01mreturn\u001b[39;00m mergedd\n\u001b[1;32m--> 123\u001b[0m l \u001b[38;5;241m=\u001b[39m \u001b[43mLINKEDLISTS\u001b[49m()\n\u001b[0;32m    124\u001b[0m l\u001b[38;5;241m.\u001b[39madd(\u001b[38;5;241m10\u001b[39m)\n\u001b[0;32m    125\u001b[0m l\u001b[38;5;241m.\u001b[39madd(\u001b[38;5;241m2\u001b[39m)\n",
      "\u001b[1;31mNameError\u001b[0m: name 'LINKEDLISTS' is not defined"
     ]
    }
   ],
   "source": [
    "def merged_sort(linked_list):\n",
    "    '''\n",
    "    sorts a linked list in ascending order\n",
    "    - recursively divide the linked list into sublists containing a single node.\n",
    "    - repeatedly merge the sublists to produce sorted sublists until one remains.\n",
    "\n",
    "    returns a sorted linked list.\n",
    "    runs in O(kn log n) time.\n",
    "    '''\n",
    "\n",
    "    if linked_list.size() == 1:\n",
    "        return linked_list\n",
    "    elif linked_list.head is None:\n",
    "        return linked_list\n",
    "    \n",
    "    left_half1, right_half1 = split1(linked_list)\n",
    "    left1 = merged_sort(left_half1)\n",
    "    right1 = merged_sort(right_half1)\n",
    "\n",
    "    return mergedd(left1, right1)\n",
    "\n",
    "def split1(linked_list):\n",
    "\n",
    "    \"\"\"\n",
    "    divide the unsorted list at midpoint into sublists.\n",
    "    takes O(k log n) time.\n",
    "    \"\"\"\n",
    "\n",
    "    if linked_list == None or linked_list.head == None:\n",
    "        left_half = linked_list\n",
    "        right_half = None\n",
    "\n",
    "        return left_half, right_half\n",
    "    else:\n",
    "        size = linked_list.size()\n",
    "        mid = size//2\n",
    "\n",
    "        mid_node = linked_list.node_at_index(mid-1)\n",
    "\n",
    "        left_half = linked_list\n",
    "        right_half = LINKEDLISTS()\n",
    "        right_half.head = mid_node.next_node\n",
    "        mid_node.next_node = None\n",
    "\n",
    "        return left_half, right_half\n",
    "\n",
    "def mergedd(left, right):\n",
    "    '''\n",
    "    merges two linked lists, sorting by data in nodes\n",
    "    returns a new, merged list.\n",
    "    runs in O(n) time.\n",
    "    '''\n",
    "\n",
    "    # create a new linked list that contains nodes from. \n",
    "    # merging left and right.\n",
    "    mergedd = LINKEDLISTS()\n",
    "\n",
    "    # add a fake head that is discarded later.\n",
    "    mergedd.add(0)\n",
    "\n",
    "    # set current to the head of the linked list.append\n",
    "    current = mergedd.head()\n",
    "\n",
    "    # obtain head nodes for left and right linked lists.\n",
    "    left_head = left.head\n",
    "    right_head = right.head\n",
    "\n",
    "    # iterate over left and right until we reach the tail node\n",
    "    # of either.\n",
    "\n",
    "    while left_head or right_head:\n",
    "\n",
    "        # if the head node of left is none we are past the tail\n",
    "        # add the node from right to mergedd linked list.\n",
    "\n",
    "        if left_head is None:\n",
    "            current.next_node = right_head\n",
    "\n",
    "            # call next on right to set the loop condition to false.\n",
    "            right_head = right.next_node\n",
    "        \n",
    "        # if the head node of right is none, we're past the tail.\n",
    "        # add the tail node from left to merged linked list.\n",
    "\n",
    "        elif right is None:\n",
    "            current.next_node = left_head\n",
    "\n",
    "            # call next on left to set the loop condition to false.\n",
    "            left_head = left_head.next_node\n",
    "\n",
    "        else:\n",
    "            # not at either tail node.\n",
    "            # obtain node data to perform comparison operation.\n",
    "\n",
    "            left_data = left_head.data\n",
    "            right_data = right_head.data\n",
    "\n",
    "            # if data on left is less than right, set current to left node.\n",
    "\n",
    "            if left_data < right_data:\n",
    "                current.next_node = left_head\n",
    "\n",
    "                # move left head to next node.\n",
    "\n",
    "                left_head = left_head.next_node\n",
    "\n",
    "            # if data on left is greater than right, set current to right node.\n",
    "\n",
    "            else:\n",
    "                current.next_node = right_head\n",
    "\n",
    "                # move right head to next node.\n",
    "\n",
    "                right_head = right_head.next_node\n",
    "\n",
    "        # move current to next node.\n",
    "        current = current.next_node\n",
    "\n",
    "    # discard fake head and set first merged node as head.\n",
    "    head = mergedd.head.next_node\n",
    "    mergedd.head = head\n",
    "\n",
    "    return mergedd\n",
    "\n",
    "\n",
    "l = LINKEDLISTS()\n",
    "l.add(10)\n",
    "l.add(2)\n",
    "l.add(44)\n",
    "l.add(15)\n",
    "l.add(200)\n",
    "\n",
    "print(l)\n",
    "sorted_linked_list = merged_sort(l)\n",
    "print(sorted_linked_list)\n"
   ]
  }
 ],
 "metadata": {
  "kernelspec": {
   "display_name": "Python 3",
   "language": "python",
   "name": "python3"
  },
  "language_info": {
   "codemirror_mode": {
    "name": "ipython",
    "version": 3
   },
   "file_extension": ".py",
   "mimetype": "text/x-python",
   "name": "python",
   "nbconvert_exporter": "python",
   "pygments_lexer": "ipython3",
   "version": "3.12.0"
  }
 },
 "nbformat": 4,
 "nbformat_minor": 2
}
