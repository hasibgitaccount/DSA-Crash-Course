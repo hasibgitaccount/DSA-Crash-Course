{
 "cells": [
  {
   "cell_type": "markdown",
   "metadata": {},
   "source": [
    "testing things out "
   ]
  },
  {
   "cell_type": "code",
   "execution_count": null,
   "metadata": {},
   "outputs": [
    {
     "name": "stdout",
     "output_type": "stream",
     "text": [
      "15\n"
     ]
    }
   ],
   "source": [
    "def simple_func(x1, x2):\n",
    "    return x1 + x2\n",
    "\n",
    "x = 10\n",
    "y = 5\n",
    "print(simple_func(x,y))"
   ]
  },
  {
   "cell_type": "code",
   "execution_count": null,
   "metadata": {},
   "outputs": [
    {
     "name": "stdout",
     "output_type": "stream",
     "text": [
      "15\n"
     ]
    }
   ],
   "source": [
    "def simple_func(x1, x2):\n",
    "    return x1 + x2\n",
    "\n",
    "x = 10\n",
    "y = 5\n",
    "print(simple_func(x,y))"
   ]
  },
  {
   "cell_type": "code",
   "execution_count": null,
   "metadata": {},
   "outputs": [
    {
     "name": "stdout",
     "output_type": "stream",
     "text": [
      "15\n"
     ]
    }
   ],
   "source": [
    "def simple_func(x1, x2):\n",
    "    return x1 + x2\n",
    "\n",
    "x = 10\n",
    "y = 5\n",
    "print(simple_func(x,y))"
   ]
  },
  {
   "cell_type": "code",
   "execution_count": 23,
   "metadata": {},
   "outputs": [
    {
     "name": "stdout",
     "output_type": "stream",
     "text": [
      "splitting cells\n"
     ]
    }
   ],
   "source": [
    "print('splitting cells')"
   ]
  },
  {
   "cell_type": "markdown",
   "metadata": {},
   "source": [
    "an algorithm is just simply a list of statements, a list of steps that can be converted into code and executed by a computer on different sets of inputs.\n",
    "1. Linear Search Algorithm: it involves searching through a list in a linear fashion, element by element."
   ]
  },
  {
   "cell_type": "markdown",
   "metadata": {},
   "source": [
    "Complexity of an Algorithm: so the field of study concerned with finiding the amount of time or the amount of space or the amount of other resources required to complete the execution of a program is called the analysis of algorithms and the process of figuring out the best algorithm to solve a problem is called algorithm design."
   ]
  },
  {
   "cell_type": "markdown",
   "metadata": {},
   "source": [
    "1.Complexity. the complexity of an algorithm is simply some measure of the amount of time or space required by an algorithm to process an input of a given size.\n",
    "the 'c' captures information about the number of specific operations that we perform in each iteration and informatoin about the actual hardware that you are running on. so CN is the time complexity."
   ]
  },
  {
   "cell_type": "markdown",
   "metadata": {},
   "source": [
    "2.Big O Notation."
   ]
  }
 ],
 "metadata": {
  "kernelspec": {
   "display_name": "Python 3",
   "language": "python",
   "name": "python3"
  },
  "language_info": {
   "codemirror_mode": {
    "name": "ipython",
    "version": 3
   },
   "file_extension": ".py",
   "mimetype": "text/x-python",
   "name": "python",
   "nbconvert_exporter": "python",
   "pygments_lexer": "ipython3",
   "version": "3.12.0"
  }
 },
 "nbformat": 4,
 "nbformat_minor": 2
}
