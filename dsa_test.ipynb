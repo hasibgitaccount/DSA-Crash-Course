{
 "cells": [
  {
   "cell_type": "markdown",
   "metadata": {},
   "source": [
    "testing things out "
   ]
  },
  {
   "cell_type": "code",
   "execution_count": null,
   "metadata": {},
   "outputs": [],
   "source": []
  },
  {
   "cell_type": "code",
   "execution_count": null,
   "metadata": {},
   "outputs": [
    {
     "name": "stdout",
     "output_type": "stream",
     "text": [
      "15\n"
     ]
    }
   ],
   "source": [
    "def simple_func(x1, x2):\n",
    "    return x1 + x2\n",
    "\n",
    "x = 10\n",
    "y = 5\n",
    "print(simple_func(x,y))"
   ]
  },
  {
   "cell_type": "code",
   "execution_count": null,
   "metadata": {},
   "outputs": [
    {
     "name": "stdout",
     "output_type": "stream",
     "text": [
      "15\n"
     ]
    }
   ],
   "source": [
    "def simple_func(x1, x2):\n",
    "    return x1 + x2\n",
    "\n",
    "x = 10\n",
    "y = 5\n",
    "print(simple_func(x,y))"
   ]
  },
  {
   "cell_type": "code",
   "execution_count": null,
   "metadata": {},
   "outputs": [
    {
     "name": "stdout",
     "output_type": "stream",
     "text": [
      "15\n"
     ]
    }
   ],
   "source": [
    "def simple_func(x1, x2):\n",
    "    return x1 + x2\n",
    "\n",
    "x = 10\n",
    "y = 5\n",
    "print(simple_func(x,y))"
   ]
  },
  {
   "cell_type": "code",
   "execution_count": 23,
   "metadata": {},
   "outputs": [
    {
     "name": "stdout",
     "output_type": "stream",
     "text": [
      "splitting cells\n"
     ]
    }
   ],
   "source": [
    "print('splitting cells')"
   ]
  },
  {
   "cell_type": "markdown",
   "metadata": {},
   "source": [
    "an algorithm is just simply a list of statements, a list of steps that can be converted into code and executed by a computer on different sets of inputs.\n",
    "1. Linear Search Algorithm: it involves searching through a list in a linear fashion, element by element."
   ]
  },
  {
   "cell_type": "markdown",
   "metadata": {},
   "source": [
    "Complexity of an Algorithm: so the field of study concerned with finiding the amount of time or the amount of space or the amount of other resources required to complete the execution of a program is called the analysis of algorithms and the process of figuring out the best algorithm to solve a problem is called algorithm design."
   ]
  },
  {
   "cell_type": "markdown",
   "metadata": {},
   "source": [
    "1.Complexity. the complexity of an algorithm is simply some measure of the amount of time or space required by an algorithm to process an input of a given size.\n",
    "the 'c' captures information about the number of specific operations that we perform in each iteration and informatoin about the actual hardware that you are running on. so CN is the time complexity."
   ]
  },
  {
   "cell_type": "markdown",
   "metadata": {},
   "source": [
    "2.Big O Notation."
   ]
  },
  {
   "cell_type": "markdown",
   "metadata": {},
   "source": [
    "✅ Data Structures (DS):\n",
    "👉 These are the best ways to STORE and ORGANIZE data,\n",
    "👉 So that you can access, update, delete, or search the data efficiently later.\n",
    "\n",
    "Think of DS as containers or tools to hold your data in the smartest way depending on what job you wanna do!"
   ]
  },
  {
   "cell_type": "markdown",
   "metadata": {},
   "source": [
    "✅ Algorithms (A):\n",
    "👉 These are the best ways to SOLVE problems efficiently by using step-by-step instructions.\n",
    "👉 Algorithms often use data structures to get things done faster and better."
   ]
  },
  {
   "cell_type": "markdown",
   "metadata": {},
   "source": [
    "💡 DS helps you store/manage data efficiently.\n",
    "\n",
    "💡 A helps you process/solve problems efficiently."
   ]
  },
  {
   "cell_type": "markdown",
   "metadata": {},
   "source": [
    "Algorithm: an algorithm is a set of steps or instructions for completing a task.  \n",
    "a set of steps a program takes to finish a task."
   ]
  },
  {
   "cell_type": "markdown",
   "metadata": {},
   "source": [
    "1. linear_serach\n"
   ]
  },
  {
   "cell_type": "code",
   "execution_count": 2,
   "metadata": {},
   "outputs": [
    {
     "name": "stdout",
     "output_type": "stream",
     "text": [
      "target not found in list\n",
      "target found at index: 5\n"
     ]
    }
   ],
   "source": [
    "def linear_search(list, target):\n",
    "    #returns the index position of the targer if found , else returns none.\n",
    "\n",
    "    for i in range(0, len(list)):\n",
    "        if list[i] == target:\n",
    "            return i\n",
    "    return None\n",
    "\n",
    "def verify(index):\n",
    "    if index is not None:\n",
    "        print('target found at index:', index)\n",
    "    \n",
    "    else:\n",
    "        print('target not found in list')\n",
    "\n",
    "\n",
    "numbers = [1,2,3,4,5,6,7,8,9,10]\n",
    "\n",
    "result = linear_search(numbers, 12)\n",
    "verify(result)\n",
    "\n",
    "result2 = linear_search(numbers, 6)\n",
    "verify(result2)"
   ]
  },
  {
   "cell_type": "markdown",
   "metadata": {},
   "source": [
    "2. binary_search\n"
   ]
  },
  {
   "cell_type": "code",
   "execution_count": 3,
   "metadata": {},
   "outputs": [
    {
     "name": "stdout",
     "output_type": "stream",
     "text": [
      "target not found in list\n",
      "target found at index: 5\n"
     ]
    }
   ],
   "source": [
    "def binary_search(list, target):\n",
    "    first = 0\n",
    "    last = len(list) - 1\n",
    "\n",
    "    while first <= last:\n",
    "        midpoint = (first + last)// 2\n",
    "\n",
    "        if list[midpoint] == target:\n",
    "            return midpoint\n",
    "        elif list[midpoint] < target:\n",
    "            first = midpoint + 1\n",
    "        else: \n",
    "            last = midpoint - 1\n",
    "        \n",
    "    return None\n",
    "\n",
    "\n",
    "def verify(index):\n",
    "    if index is not None:\n",
    "        print('target found at index:', index)\n",
    "    \n",
    "    else:\n",
    "        print('target not found in list')\n",
    "\n",
    "\n",
    "numbers = [1,2,3,4,5,6,7,8,9,10]\n",
    "\n",
    "result = binary_search(numbers, 12)\n",
    "verify(result)\n",
    "\n",
    "result2 = binary_search(numbers, 6)\n",
    "verify(result2)"
   ]
  },
  {
   "cell_type": "markdown",
   "metadata": {},
   "source": [
    "alternative way."
   ]
  },
  {
   "cell_type": "code",
   "execution_count": 1,
   "metadata": {},
   "outputs": [
    {
     "name": "stdout",
     "output_type": "stream",
     "text": [
      "target found:  True\n"
     ]
    }
   ],
   "source": [
    "def recursive_binary_search(list, target):\n",
    "\n",
    "    if len(list) == 0:\n",
    "        return False\n",
    "    else:\n",
    "        midpoint = len(list)//2\n",
    "\n",
    "        if list[midpoint] == target:\n",
    "            return True\n",
    "        else:\n",
    "            if list[midpoint] < target:\n",
    "                return recursive_binary_search(list[midpoint + 1 : ], target)\n",
    "            else:\n",
    "                return recursive_binary_search(list[:midpoint], target)\n",
    "            \n",
    "\n",
    "def verify(result):\n",
    "    print('target found: ', result)\n",
    "\n",
    "\n",
    "numbers = [1,2,3,4,5,6,7,8]\n",
    "result = recursive_binary_search(numbers, 6)\n",
    "verify(result)\n",
    "        \n"
   ]
  },
  {
   "cell_type": "markdown",
   "metadata": {},
   "source": [
    "linked_list"
   ]
  },
  {
   "cell_type": "code",
   "execution_count": 1,
   "metadata": {},
   "outputs": [],
   "source": [
    "class Node:\n",
    "    '''\n",
    "    an object for storing a single node of a liclanked list.\n",
    "    models two attributes - data and the link to the next node in the list.\n",
    "    '''\n",
    "\n",
    "    data = None\n",
    "    next_node = None\n",
    "\n",
    "    def __init__(self, data):\n",
    "        self.data = data\n",
    "\n",
    "    def __repr__(self):\n",
    "        return '<node data: %s>' % self.data\n",
    "\n",
    "\n",
    "\n",
    "class LinkedList:\n",
    "\n",
    "    # singly linked list.\n",
    "\n",
    "    def __init__(self):\n",
    "        self.head = None\n",
    "\n",
    "    def is_empty(self):\n",
    "        return self.head == None\n",
    "    \n",
    "    def size(self):\n",
    "\n",
    "        '''\n",
    "        return the number of nodes in the list\n",
    "        takes O(n) time.\n",
    "        '''\n",
    "\n",
    "        current = self.head\n",
    "        count = 0\n",
    "\n",
    "        while current != None:\n",
    "            count += 1\n",
    "            current = current.next_node\n",
    "\n",
    "        return count\n",
    "    \n",
    "\n",
    "    def add(self, data):\n",
    "        \n",
    "        '''\n",
    "        adds new node containing data at the head of the list\n",
    "        takes O(1) time.\n",
    "        '''\n",
    "\n",
    "        new_node = Node(data)\n",
    "        new_node.next_node = self.head\n",
    "        self.head = new_node\n",
    "\n",
    "\n",
    "    def search(self, key):\n",
    "\n",
    "        # search for the first node containing data that matches the key. returns the node or none if not found .\n",
    "        # takes O(n) time.\n",
    "\n",
    "        current = self.head\n",
    "\n",
    "        while current:\n",
    "            if current.data == key:\n",
    "                return current\n",
    "            else:\n",
    "                current = current.next_node\n",
    "        return None\n",
    "\n",
    "\n",
    "    def __repr__(self):\n",
    "        \"\"\"\n",
    "        Return a string representation of the list.\n",
    "        Takes O(n) time.\n",
    "        \"\"\"\n",
    "        nodes = []\n",
    "        current = self.head\n",
    "        while current:\n",
    "            if current is self.head:\n",
    "                nodes.append(\"[Head: %s]\" % current.data)\n",
    "            elif current.next_node is None:\n",
    "                nodes.append(\"[Tail: %s]\" % current.data)\n",
    "            else:\n",
    "                nodes.append(\"[%s]\" % current.data)\n",
    "            current = current.next_node\n",
    "        return  '-> '.join(nodes)\n",
    "\n",
    "#l = LinkedList()\n",
    "#l.add(1)\n",
    "#l.add(2)\n",
    "#l.add(3)\n",
    "#print(l)\n",
    "\n",
    "\n",
    "# n1 = Node(10)\n",
    "# n2 = Node(20)\n",
    "# n1.next_node = n2\n",
    "# n1.next_node\n",
    "\n",
    "#l = LinkedList()\n",
    "#n1 = Node(10)\n",
    "#l.head = n1\n",
    "#l.size()\n"
   ]
  }
 ],
 "metadata": {
  "kernelspec": {
   "display_name": "Python 3",
   "language": "python",
   "name": "python3"
  },
  "language_info": {
   "codemirror_mode": {
    "name": "ipython",
    "version": 3
   },
   "file_extension": ".py",
   "mimetype": "text/x-python",
   "name": "python",
   "nbconvert_exporter": "python",
   "pygments_lexer": "ipython3",
   "version": "3.12.0"
  }
 },
 "nbformat": 4,
 "nbformat_minor": 2
}
